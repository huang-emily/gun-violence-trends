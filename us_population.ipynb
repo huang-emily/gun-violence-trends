{
 "cells": [
  {
   "cell_type": "markdown",
   "metadata": {},
   "source": [
    "# Dataset Curation\n",
    "\n",
    "This notebook was created to curate datasets needed to assist in the Gun Violence Trends study."
   ]
  },
  {
   "cell_type": "markdown",
   "metadata": {},
   "source": [
    "## State Population Dataset Curation\n",
    "\n",
    "This notebook was created to curate a dataset from multiple tables from the United States Census Bureau."
   ]
  },
  {
   "cell_type": "code",
   "execution_count": 1,
   "metadata": {},
   "outputs": [],
   "source": [
    "# import the necessary libraries\n",
    "import pandas as pd"
   ]
  },
  {
   "cell_type": "code",
   "execution_count": 2,
   "metadata": {},
   "outputs": [],
   "source": [
    "# set display options\n",
    "pd.set_option('display.max_columns', None)\n",
    "pd.set_option('display.max_rows', None)"
   ]
  },
  {
   "cell_type": "code",
   "execution_count": 3,
   "metadata": {},
   "outputs": [],
   "source": [
    "# read in the columns\n",
    "population_from_2020_2023 = pd.read_csv('data/NST-EST2023-ALLDATA.csv')\n",
    "population_from_2010_2019 = pd.read_csv('data/nst-est2019-alldata.csv')"
   ]
  },
  {
   "cell_type": "code",
   "execution_count": 4,
   "metadata": {},
   "outputs": [],
   "source": [
    "# keep these columns which should just be name and the population estimate each year\n",
    "pop_2020_2023_cols_keep = ['NAME', 'POPESTIMATE2020', 'POPESTIMATE2021', 'POPESTIMATE2022', 'POPESTIMATE2023']\n",
    "pop_2010_2019_cols_keep = ['NAME', 'POPESTIMATE2014', 'POPESTIMATE2015', \n",
    "                           'POPESTIMATE2016', 'POPESTIMATE2017', 'POPESTIMATE2018', \n",
    "                           'POPESTIMATE2019']\n",
    "\n",
    "# keep the columns of interest and convert to a csv\n",
    "population_from_2020_2023[population_from_2020_2023.columns.intersection(pop_2020_2023_cols_keep)].to_csv('data/cleaned_nst_est_2020_to_2023.csv', index=False)\n",
    "population_from_2010_2019[population_from_2010_2019.columns.intersection(pop_2010_2019_cols_keep)].to_csv('data/cleaned_nst_est_2014_to_2019.csv', index=False)"
   ]
  },
  {
   "cell_type": "code",
   "execution_count": 5,
   "metadata": {},
   "outputs": [],
   "source": [
    "# read in the cleaned csvs and join them on NAME column \n",
    "cleaned_2014_2019 = pd.read_csv('data/cleaned_nst_est_2014_to_2019.csv')\n",
    "cleaned_2020_2023 = pd.read_csv('data/cleaned_nst_est_2020_to_2023.csv')\n",
    "\n",
    "cleaned_2014_2023 = pd.merge(cleaned_2014_2019, cleaned_2020_2023,  \n",
    "                        on='NAME',  \n",
    "                        how='inner') \n",
    "\n",
    "# output the merged dataset to a csv\n",
    "cleaned_2014_2023.to_csv('data/cleaned_nst_est_2014_2023.csv', index=False)"
   ]
  },
  {
   "cell_type": "markdown",
   "metadata": {},
   "source": [
    "## City Population Dataset Curation\n",
    "\n",
    "With the state population done, it's time to perform the same functions for the city curation."
   ]
  },
  {
   "cell_type": "code",
   "execution_count": 6,
   "metadata": {},
   "outputs": [],
   "source": [
    "# read in the city population datasets\n",
    "city_from_2010_2019 = pd.read_csv('data/sub-est2019_all.csv', encoding = \"ISO-8859-1\")\n",
    "city_from_2020_2023 = pd.read_csv('data/sub-est2023.csv', encoding = \"ISO-8859-1\")"
   ]
  },
  {
   "cell_type": "code",
   "execution_count": 7,
   "metadata": {},
   "outputs": [],
   "source": [
    "# data cleaning the 'NAME' to remove the last word in the string\n",
    "# since it's a classification and not part of the actual name of the city\n",
    "\n",
    "city_from_2010_2019['NAME'] = city_from_2010_2019['NAME'].str.rsplit(n=1).str[0]\n",
    "city_from_2020_2023['NAME'] = city_from_2020_2023['NAME'].str.rsplit(n=1).str[0]"
   ]
  },
  {
   "cell_type": "code",
   "execution_count": 8,
   "metadata": {},
   "outputs": [],
   "source": [
    "city_from_2020_2023_keep = ['NAME', 'STNAME', 'POPESTIMATE2020', 'POPESTIMATE2021', 'POPESTIMATE2022', 'POPESTIMATE2023']\n",
    "city_from_2010_2019_keep = ['NAME', 'STNAME', 'POPESTIMATE2014', 'POPESTIMATE2015', \n",
    "                           'POPESTIMATE2016', 'POPESTIMATE2017', 'POPESTIMATE2018', \n",
    "                           'POPESTIMATE2019']\n",
    "\n",
    "\n",
    "\n",
    "# keep the columns of interest and convert to a csv\n",
    "city_from_2010_2019[city_from_2010_2019.columns.intersection(city_from_2010_2019_keep)].to_csv('data/cleaned_sub_est_2014_2019.csv', index=False)\n",
    "city_from_2020_2023[city_from_2020_2023.columns.intersection(city_from_2020_2023_keep)].to_csv('data/cleaned_sub_est_2020_2023.csv', index=False)"
   ]
  },
  {
   "cell_type": "code",
   "execution_count": 9,
   "metadata": {},
   "outputs": [],
   "source": [
    "# read in the cleaned csvs and join them on NAME column \n",
    "cleaned_2014_2019 = pd.read_csv('data/cleaned_sub_est_2014_2019.csv')\n",
    "cleaned_2020_2023 = pd.read_csv('data/cleaned_sub_est_2020_2023.csv')\n",
    "\n",
    "cleaned_2014_2023 = pd.merge(\n",
    "    left=cleaned_2014_2019, \n",
    "    right=cleaned_2020_2023,\n",
    "    how='inner',\n",
    "    left_on=['NAME', 'STNAME'],\n",
    "    right_on=['NAME', 'STNAME']\n",
    ").drop_duplicates().dropna()"
   ]
  },
  {
   "cell_type": "code",
   "execution_count": 10,
   "metadata": {},
   "outputs": [],
   "source": [
    "# output the merged dataset to a csv\n",
    "cleaned_2014_2023.to_csv('data/cleaned_sub_est_2014_2023.csv', index=False)"
   ]
  },
  {
   "cell_type": "markdown",
   "metadata": {},
   "source": [
    "## State-Level Presidential Election Results\n",
    "\n",
    "This section is curating which party each state voted for from 2012 - 2020, which overlaps the years being studied for the Gun Violence Trends dataset."
   ]
  },
  {
   "cell_type": "code",
   "execution_count": 11,
   "metadata": {},
   "outputs": [],
   "source": [
    "state_president = pd.read_csv('data/1976-2020-president.csv')"
   ]
  },
  {
   "cell_type": "code",
   "execution_count": 12,
   "metadata": {},
   "outputs": [
    {
     "data": {
      "text/plain": [
       "Index(['year', 'state', 'state_po', 'state_fips', 'state_cen', 'state_ic',\n",
       "       'office', 'candidate', 'party_detailed', 'writein', 'candidatevotes',\n",
       "       'totalvotes', 'version', 'notes', 'party_simplified'],\n",
       "      dtype='object')"
      ]
     },
     "execution_count": 12,
     "metadata": {},
     "output_type": "execute_result"
    }
   ],
   "source": [
    "state_president.columns"
   ]
  },
  {
   "cell_type": "code",
   "execution_count": 15,
   "metadata": {},
   "outputs": [],
   "source": [
    "# grab rows only where the rows are greater than or equal to 2012\n",
    "state_president = state_president[state_president['year'] >= 2012]"
   ]
  },
  {
   "cell_type": "code",
   "execution_count": 16,
   "metadata": {},
   "outputs": [
    {
     "data": {
      "text/html": [
       "<div>\n",
       "<style scoped>\n",
       "    .dataframe tbody tr th:only-of-type {\n",
       "        vertical-align: middle;\n",
       "    }\n",
       "\n",
       "    .dataframe tbody tr th {\n",
       "        vertical-align: top;\n",
       "    }\n",
       "\n",
       "    .dataframe thead th {\n",
       "        text-align: right;\n",
       "    }\n",
       "</style>\n",
       "<table border=\"1\" class=\"dataframe\">\n",
       "  <thead>\n",
       "    <tr style=\"text-align: right;\">\n",
       "      <th></th>\n",
       "      <th>year</th>\n",
       "      <th>state</th>\n",
       "      <th>candidatevotes</th>\n",
       "      <th>party_simplified</th>\n",
       "    </tr>\n",
       "  </thead>\n",
       "  <tbody>\n",
       "    <tr>\n",
       "      <th>3079</th>\n",
       "      <td>2012</td>\n",
       "      <td>ALABAMA</td>\n",
       "      <td>1255925</td>\n",
       "      <td>REPUBLICAN</td>\n",
       "    </tr>\n",
       "    <tr>\n",
       "      <th>3080</th>\n",
       "      <td>2012</td>\n",
       "      <td>ALABAMA</td>\n",
       "      <td>795696</td>\n",
       "      <td>DEMOCRAT</td>\n",
       "    </tr>\n",
       "    <tr>\n",
       "      <th>3081</th>\n",
       "      <td>2012</td>\n",
       "      <td>ALABAMA</td>\n",
       "      <td>18706</td>\n",
       "      <td>OTHER</td>\n",
       "    </tr>\n",
       "    <tr>\n",
       "      <th>3082</th>\n",
       "      <td>2012</td>\n",
       "      <td>ALABAMA</td>\n",
       "      <td>4011</td>\n",
       "      <td>OTHER</td>\n",
       "    </tr>\n",
       "    <tr>\n",
       "      <th>3083</th>\n",
       "      <td>2012</td>\n",
       "      <td>ALASKA</td>\n",
       "      <td>164676</td>\n",
       "      <td>REPUBLICAN</td>\n",
       "    </tr>\n",
       "  </tbody>\n",
       "</table>\n",
       "</div>"
      ],
      "text/plain": [
       "      year    state  candidatevotes party_simplified\n",
       "3079  2012  ALABAMA         1255925       REPUBLICAN\n",
       "3080  2012  ALABAMA          795696         DEMOCRAT\n",
       "3081  2012  ALABAMA           18706            OTHER\n",
       "3082  2012  ALABAMA            4011            OTHER\n",
       "3083  2012   ALASKA          164676       REPUBLICAN"
      ]
     },
     "execution_count": 16,
     "metadata": {},
     "output_type": "execute_result"
    }
   ],
   "source": [
    "state_president_keep = ['year', 'state', 'candidatevotes', 'party_simplified']\n",
    "state_president = state_president[state_president.columns.intersection(state_president_keep)]\n",
    "state_president.head()"
   ]
  }
 ],
 "metadata": {
  "kernelspec": {
   "display_name": "Python 3",
   "language": "python",
   "name": "python3"
  },
  "language_info": {
   "codemirror_mode": {
    "name": "ipython",
    "version": 3
   },
   "file_extension": ".py",
   "mimetype": "text/x-python",
   "name": "python",
   "nbconvert_exporter": "python",
   "pygments_lexer": "ipython3",
   "version": "3.13.2"
  }
 },
 "nbformat": 4,
 "nbformat_minor": 2
}
